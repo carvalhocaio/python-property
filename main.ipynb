{
 "cells": [
  {
   "cell_type": "markdown",
   "metadata": {},
   "source": [
    "Com o `property()` do Python, você pode criar **atributos gerenciados** em suas classes. Você pode usar atributos gerenciados quando precisar modificar a implementação interna de um atributo e não quiser alterar a API pública da classe. Fornecer APIs estáveis evitará que você quebre o código dos seus usuários quando eles dependerem do seu código."
   ]
  },
  {
   "cell_type": "markdown",
   "metadata": {},
   "source": [
    "**Propriedades** são, sem dúvida, a maneira mais popular de criar atributos gerenciados rapidamente e no estilo mais puro do Python."
   ]
  },
  {
   "cell_type": "markdown",
   "metadata": {},
   "source": [
    "## Gerenciando Atributos em Suas Classes\n",
    "\n",
    "Quando você define uma classe em uma linguagem de programação orientada a objetos, provavelmente acabará com alguns atributos de instância e de classe. Em outras palavras, você terá variáveis que são acessíveis através da instância, da classe ou até mesmo de ambos, dependendo da linguagem. Os atributos representam e mantêm o estado interno de um determinado objeto, que você frequentemente precisará acessar e modificar.\n",
    "\n",
    "Normalmente, você tem pelo menos duas maneiras de acessar e modificar um atributo. Você pode acessar e modificar o atributo diretamente ou pode usar métodos. Métodos são funções anexadas a uma determinada classe. Eles fornecem os comportamentos e ações que um objeto pode realizar com seus dados internos e atributos.\n",
    "\n",
    "Se você expõe atributos ao usuário, eles se tornam parte da API pública da classe. Isso significa que seus usuários irão acessá-los e alterá-los diretamente em seu código. O problema surge quando você precisa alterar a implementação interna de um determinado stributo.\n",
    "\n",
    "Digamos que você esteja trabalhando em uma classe `Circle` e adicione um atributo chamado `.radius()`, tornando-o público. Você termina de codificar a classe e a envia para seus usuários finais. Eles começam a usar `Circle` em seu código para criar muitos projetos e aplicativos incríveis. Bom trabalho!\n",
    "\n",
    "Agora suponha que você tenha um usuário importante que vem até você com um novo requisito. Ele não quer que `Circle` armazene o `.radius`. Em vez disso, ele quer `.diameter` como atributo público.\n",
    "\n",
    "Neste ponto, remover `.radius` para começar a usar `.diameter` pode quebrar o código de alguns dos seus outros usuários. Você precisa gerenciar essa situação de uma forma diferente de remover `.radius`.\n",
    "\n",
    "Linguagens de programação como Java e C++ incentivam você a nunca expor seus atributos para evitar esse tipo de problema. Em vez disso, você deve fornecer métodos `getter` e `setter`, também conhecidos como `accessors` e `mutators`, respectivamente. Esses métodos oferecem uma maneira de alterar a implementação interna de seus atributos sem alterar sua API pública.\n",
    "\n",
    "Essas linguagens de programação precisam de métodos getter e seter porque não têm uma maneira adequada de alterar a implementação interna de uma atributo quando um determinado requisito muda. Alterar a implementação interna exigiria uma modificação da API, o que pode quebrar o código dos seus usuários finais.\n",
    "\n",
    "### A abordagem Getter e Setter em Python\n",
    "\n",
    "Tecnicamente, não há nada que impeça você de usar métodos getter e setter em Python. Aqui está um exemplo rápido que mostra como essa abordagem ficaria:"
   ]
  },
  {
   "cell_type": "code",
   "execution_count": null,
   "metadata": {},
   "outputs": [],
   "source": []
  }
 ],
 "metadata": {
  "kernelspec": {
   "display_name": ".venv",
   "language": "python",
   "name": "python3"
  },
  "language_info": {
   "name": "python",
   "version": "3.10.4"
  }
 },
 "nbformat": 4,
 "nbformat_minor": 2
}
